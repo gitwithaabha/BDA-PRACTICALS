{
 "cells": [
  {
   "cell_type": "code",
   "execution_count": 1,
   "id": "c6537218",
   "metadata": {},
   "outputs": [],
   "source": [
    "# Aim : "
   ]
  },
  {
   "cell_type": "code",
   "execution_count": 2,
   "id": "1ca96fce",
   "metadata": {},
   "outputs": [],
   "source": [
    "# Name : Vihal V. Karhade\n",
    "# class : 3rd year\n",
    "# Section : A\n",
    "# Roll No. : 38"
   ]
  },
  {
   "cell_type": "markdown",
   "id": "8f4ac57c",
   "metadata": {},
   "source": [
    "# U-Test"
   ]
  },
  {
   "cell_type": "code",
   "execution_count": 3,
   "id": "9291bb3f",
   "metadata": {},
   "outputs": [],
   "source": [
    "# Python program to implement Mann-Whitney U Test\n",
    "# Importing the required dataset\n",
    "from scipy.stats import mannwhitneyu"
   ]
  },
  {
   "cell_type": "code",
   "execution_count": 4,
   "id": "3a05a1b8",
   "metadata": {},
   "outputs": [],
   "source": [
    "# Creating the dataset\n",
    "data1 = [0.978, 2.792, 0.248, -0.820, -0.102, -1.203, 0.102, -1.392, -1.395, -1.928]\n",
    "data2 = [1.283, -0.284, -0.821, -0.792, -0.793, -0.294, 0.600, 1.294, -1.183, -0.284]"
   ]
  },
  {
   "cell_type": "code",
   "execution_count": 5,
   "id": "0d954c9f",
   "metadata": {},
   "outputs": [],
   "source": [
    "# Creating the dataset\n",
    "data1 = [0.978, 2.792, 0.248, -0.820, -0.102, -1.203, 0.102, -1.392, -1.395, -1.928]\n",
    "data2 = [1.283, -0.284, -0.821, -0.792, -0.793, -0.294, 0.600, 1.294, -1.183, -0.284]"
   ]
  },
  {
   "cell_type": "code",
   "execution_count": 6,
   "id": "d260e190",
   "metadata": {},
   "outputs": [
    {
     "name": "stdout",
     "output_type": "stream",
     "text": [
      "P-value is:  0.520366020896531\n"
     ]
    }
   ],
   "source": [
    "# Implementing the test\n",
    "k_test, p_val = mannwhitneyu(data1, data2)\n",
    "print(\"P-value is: \", p_val)"
   ]
  },
  {
   "cell_type": "code",
   "execution_count": 7,
   "id": "9e9cb523",
   "metadata": {},
   "outputs": [
    {
     "name": "stdout",
     "output_type": "stream",
     "text": [
      "We can accept the null hypothesis\n"
     ]
    }
   ],
   "source": [
    "# taking the threshold value as 0.05 or 5%\n",
    "if p_val < 0.05:\n",
    "    print(\" We can reject the null hypothesis\")\n",
    "else:\n",
    "    print(\"We can accept the null hypothesis\")"
   ]
  },
  {
   "cell_type": "code",
   "execution_count": null,
   "id": "90d06e1d",
   "metadata": {},
   "outputs": [],
   "source": []
  }
 ],
 "metadata": {
  "kernelspec": {
   "display_name": "Python 3 (ipykernel)",
   "language": "python",
   "name": "python3"
  },
  "language_info": {
   "codemirror_mode": {
    "name": "ipython",
    "version": 3
   },
   "file_extension": ".py",
   "mimetype": "text/x-python",
   "name": "python",
   "nbconvert_exporter": "python",
   "pygments_lexer": "ipython3",
   "version": "3.11.5"
  }
 },
 "nbformat": 4,
 "nbformat_minor": 5
}
